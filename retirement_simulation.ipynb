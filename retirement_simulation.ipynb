{
 "cells": [
  {
   "cell_type": "markdown",
   "id": "c192e46c-9ccd-41dd-8c69-0d400d5fb3cd",
   "metadata": {},
   "source": [
    "# Imports"
   ]
  },
  {
   "cell_type": "code",
   "execution_count": 3,
   "id": "5524c903-e09b-4d55-ba02-d8758342fc96",
   "metadata": {},
   "outputs": [],
   "source": [
    "%load_ext autoreload\n",
    "%autoreload 2"
   ]
  },
  {
   "cell_type": "code",
   "execution_count": 4,
   "id": "fc31ac44",
   "metadata": {},
   "outputs": [],
   "source": [
    "import sys\n",
    "import os\n",
    "\n",
    "import numpy as np\n",
    "import pandas as pd"
   ]
  },
  {
   "cell_type": "code",
   "execution_count": 57,
   "id": "53dc4c3a",
   "metadata": {},
   "outputs": [],
   "source": [
    "sys.path.append(os.getcwd() + '/refi')\n",
    "import retirement_analysis as ra\n",
    "import constants\n",
    "#import asset\n",
    "#import consumption\n",
    "#import inflation\n",
    "import portfolio as pf\n",
    "\n",
    "import series.base_series as base_series\n",
    "from series.consumption import StaticRetirementConsumption\n",
    "from series.deferral import StaticPreRetirementDeferral"
   ]
  },
  {
   "cell_type": "markdown",
   "id": "d012160a-3a5a-4c42-a1dd-e7b6f1dbe2f3",
   "metadata": {},
   "source": [
    "# Constants"
   ]
  },
  {
   "cell_type": "code",
   "execution_count": 6,
   "id": "a6f315ed-5ef7-4b8a-a5d4-805c736cce22",
   "metadata": {},
   "outputs": [],
   "source": [
    "initial_balance = 400000\n",
    "initial_cpi = 275\n",
    "initial_age = 30\n",
    "initial_deferral = 19500\n",
    "retirement_age = 60\n",
    "retirement_consumption = 75000\n",
    "death_age = 100"
   ]
  },
  {
   "cell_type": "code",
   "execution_count": 7,
   "id": "2cb47e81-9e2d-4560-ac84-d72dd82e5864",
   "metadata": {},
   "outputs": [],
   "source": [
    "num_years = death_age - initial_age + 1"
   ]
  },
  {
   "cell_type": "code",
   "execution_count": 8,
   "id": "726cb791-6f65-43ed-bb2e-e70e05e945be",
   "metadata": {},
   "outputs": [],
   "source": [
    "geo_mean_equity_return = .065\n",
    "geo_mean_bond_return = .035\n",
    "geo_mean_cash_return = .002\n",
    "\n",
    "geo_mean_inflation = .02"
   ]
  },
  {
   "cell_type": "markdown",
   "id": "a1880ad0-69c4-4908-89fd-412f9ac43650",
   "metadata": {},
   "source": [
    "\n",
    "# Portfolio"
   ]
  },
  {
   "cell_type": "code",
   "execution_count": 9,
   "id": "2074cfe7-bae2-48e6-82cf-b013152d3bbc",
   "metadata": {},
   "outputs": [],
   "source": [
    "equity = base_series.StaticSeries(num_years, geo_mean_equity_return)\n",
    "bond = base_series.StaticSeries(num_years, geo_mean_bond_return)\n",
    "cash = base_series.StaticSeries(num_years, geo_mean_cash_return)"
   ]
  },
  {
   "cell_type": "code",
   "execution_count": 10,
   "id": "b06c9dfb-4a08-4951-b7a6-da258a4ba0a7",
   "metadata": {},
   "outputs": [],
   "source": [
    "assets = [equity, bond, cash]\n",
    "balance = initial_balance\n",
    "glidepath = constants.fidelity_glidepath"
   ]
  },
  {
   "cell_type": "code",
   "execution_count": 11,
   "id": "1e32eebd-c4ed-4c5b-b1e3-f7e0e26b314d",
   "metadata": {},
   "outputs": [],
   "source": [
    "portfolio = pf.Portfolio(assets, glidepath, balance)"
   ]
  },
  {
   "cell_type": "markdown",
   "id": "39628856-bfda-48d0-ace1-392537425b59",
   "metadata": {},
   "source": [
    "# Inflation Scenario"
   ]
  },
  {
   "cell_type": "code",
   "execution_count": 69,
   "id": "3c00f700-db41-455f-8076-7d97b1d67f83",
   "metadata": {},
   "outputs": [],
   "source": [
    "inflation_scenario = base_series.StaticSeries(num_years, geo_mean_inflation)"
   ]
  },
  {
   "cell_type": "code",
   "execution_count": 70,
   "id": "0ba18a7a-3f01-450a-ac48-f4ac18b95051",
   "metadata": {},
   "outputs": [],
   "source": [
    "cpi = base_series.StaticGrowthSeries(initial_value=100, growth_series=inflation)"
   ]
  },
  {
   "cell_type": "markdown",
   "id": "ca345961-6469-4809-a3e1-5a570dd52172",
   "metadata": {},
   "source": [
    "# Consumption Scenario"
   ]
  },
  {
   "cell_type": "code",
   "execution_count": 72,
   "id": "fb0d6b90-c298-4c18-947b-7fc16cac2940",
   "metadata": {},
   "outputs": [],
   "source": [
    "consumption = StaticRetirementConsumption(retirement_consumption, cpi, initial_age, retirement_age)"
   ]
  },
  {
   "cell_type": "code",
   "execution_count": 73,
   "id": "8a81c0be-c20e-4405-870d-ebf4b757a290",
   "metadata": {},
   "outputs": [],
   "source": [
    "deferral = StaticPreRetirementDeferral(initial_deferral, cpi, initial_age, retirement_age)"
   ]
  },
  {
   "cell_type": "markdown",
   "id": "02710f82-4277-4272-97a3-abb632b333fa",
   "metadata": {},
   "source": [
    "# Ret Analysis"
   ]
  },
  {
   "cell_type": "code",
   "execution_count": 74,
   "id": "046d8b4e-ae8c-4057-827a-6648166ef130",
   "metadata": {},
   "outputs": [
    {
     "ename": "NameError",
     "evalue": "name 'deferral_scenario' is not defined",
     "output_type": "error",
     "traceback": [
      "\u001b[0;31m---------------------------------------------------------------------------\u001b[0m",
      "\u001b[0;31mNameError\u001b[0m                                 Traceback (most recent call last)",
      "\u001b[0;32m/var/folders/xn/1p56zln925s55jw7cg4p0my40000gn/T/ipykernel_2009/509316463.py\u001b[0m in \u001b[0;36m<module>\u001b[0;34m\u001b[0m\n\u001b[1;32m      1\u001b[0m retirement_analysis = ra.RetirementAnalysis(\n\u001b[0;32m----> 2\u001b[0;31m     initial_age, retirement_age, death_age, portfolio, deferral_scenario, consumption_scenario, inflation_scenario, ssb_scenario)\n\u001b[0m",
      "\u001b[0;31mNameError\u001b[0m: name 'deferral_scenario' is not defined"
     ]
    }
   ],
   "source": [
    "retirement_analysis = ra.RetirementAnalysis(\n",
    "    initial_age=initial_age,\n",
    "    retirement_age=retirement_age,\n",
    "    death_age=death_age,\n",
    "    portfolio=portfolio,\n",
    "    deferral_scenario=deferral,\n",
    "    consumption_scenario=consumption,\n",
    "    inflation_scenario=inflation,\n",
    "    ssb_scenario=ssb)"
   ]
  },
  {
   "cell_type": "code",
   "execution_count": null,
   "id": "4c049316-41b5-41e6-8974-f56e7a288aca",
   "metadata": {},
   "outputs": [],
   "source": []
  }
 ],
 "metadata": {
  "kernelspec": {
   "display_name": "retirement-finance",
   "language": "python",
   "name": "venv-retirement-finance"
  },
  "language_info": {
   "codemirror_mode": {
    "name": "ipython",
    "version": 3
   },
   "file_extension": ".py",
   "mimetype": "text/x-python",
   "name": "python",
   "nbconvert_exporter": "python",
   "pygments_lexer": "ipython3",
   "version": "3.9.5"
  }
 },
 "nbformat": 4,
 "nbformat_minor": 5
}
