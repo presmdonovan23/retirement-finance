{
 "cells": [
  {
   "cell_type": "markdown",
   "id": "c192e46c-9ccd-41dd-8c69-0d400d5fb3cd",
   "metadata": {},
   "source": [
    "# Imports"
   ]
  },
  {
   "cell_type": "code",
   "execution_count": 3,
   "id": "5524c903-e09b-4d55-ba02-d8758342fc96",
   "metadata": {},
   "outputs": [],
   "source": [
    "%load_ext autoreload\n",
    "%autoreload 2"
   ]
  },
  {
   "cell_type": "code",
   "execution_count": 4,
   "id": "fc31ac44",
   "metadata": {},
   "outputs": [],
   "source": [
    "import sys\n",
    "import os\n",
    "\n",
    "import numpy as np\n",
    "import pandas as pd"
   ]
  },
  {
   "cell_type": "code",
   "execution_count": 76,
   "id": "53dc4c3a",
   "metadata": {},
   "outputs": [],
   "source": [
    "sys.path.append(os.getcwd() + '/refi')\n",
    "import retirement_analysis as ra\n",
    "import constants\n",
    "#import asset\n",
    "#import consumption\n",
    "#import inflation\n",
    "import portfolio as pf\n",
    "\n",
    "import series.base_series as base_series\n",
    "from series.consumption import StaticRetirementConsumption\n",
    "from series.ssb import StaticRetirementSSB\n",
    "from series.deferral import StaticPreRetirementDeferral"
   ]
  },
  {
   "cell_type": "markdown",
   "id": "d012160a-3a5a-4c42-a1dd-e7b6f1dbe2f3",
   "metadata": {},
   "source": [
    "# Constants"
   ]
  },
  {
   "cell_type": "code",
   "execution_count": 75,
   "id": "a6f315ed-5ef7-4b8a-a5d4-805c736cce22",
   "metadata": {},
   "outputs": [],
   "source": [
    "initial_balance = 400000\n",
    "initial_cpi = 275\n",
    "initial_age = 30\n",
    "initial_deferral = 19500\n",
    "retirement_age = 60\n",
    "retirement_consumption = 75000\n",
    "retirement_ssb = 10000\n",
    "death_age = 100"
   ]
  },
  {
   "cell_type": "code",
   "execution_count": 7,
   "id": "2cb47e81-9e2d-4560-ac84-d72dd82e5864",
   "metadata": {},
   "outputs": [],
   "source": [
    "num_years = death_age - initial_age + 1"
   ]
  },
  {
   "cell_type": "code",
   "execution_count": 8,
   "id": "726cb791-6f65-43ed-bb2e-e70e05e945be",
   "metadata": {},
   "outputs": [],
   "source": [
    "geo_mean_equity_return = .065\n",
    "geo_mean_bond_return = .035\n",
    "geo_mean_cash_return = .002\n",
    "\n",
    "geo_mean_inflation = .02"
   ]
  },
  {
   "cell_type": "markdown",
   "id": "a1880ad0-69c4-4908-89fd-412f9ac43650",
   "metadata": {},
   "source": [
    "\n",
    "# Portfolio"
   ]
  },
  {
   "cell_type": "code",
   "execution_count": 9,
   "id": "2074cfe7-bae2-48e6-82cf-b013152d3bbc",
   "metadata": {},
   "outputs": [],
   "source": [
    "equity = base_series.StaticSeries(num_years, geo_mean_equity_return)\n",
    "bond = base_series.StaticSeries(num_years, geo_mean_bond_return)\n",
    "cash = base_series.StaticSeries(num_years, geo_mean_cash_return)"
   ]
  },
  {
   "cell_type": "code",
   "execution_count": 10,
   "id": "b06c9dfb-4a08-4951-b7a6-da258a4ba0a7",
   "metadata": {},
   "outputs": [],
   "source": [
    "assets = [equity, bond, cash]\n",
    "balance = initial_balance\n",
    "glidepath = constants.fidelity_glidepath"
   ]
  },
  {
   "cell_type": "code",
   "execution_count": 11,
   "id": "1e32eebd-c4ed-4c5b-b1e3-f7e0e26b314d",
   "metadata": {},
   "outputs": [],
   "source": [
    "portfolio = pf.Portfolio(assets, glidepath, balance)"
   ]
  },
  {
   "cell_type": "markdown",
   "id": "39628856-bfda-48d0-ace1-392537425b59",
   "metadata": {},
   "source": [
    "# Inflation Scenario"
   ]
  },
  {
   "cell_type": "code",
   "execution_count": 69,
   "id": "3c00f700-db41-455f-8076-7d97b1d67f83",
   "metadata": {},
   "outputs": [],
   "source": [
    "inflation_scenario = base_series.StaticSeries(num_years, geo_mean_inflation)"
   ]
  },
  {
   "cell_type": "code",
   "execution_count": 70,
   "id": "0ba18a7a-3f01-450a-ac48-f4ac18b95051",
   "metadata": {},
   "outputs": [],
   "source": [
    "cpi = base_series.StaticGrowthSeries(initial_value=100, growth_series=inflation)"
   ]
  },
  {
   "cell_type": "markdown",
   "id": "ca345961-6469-4809-a3e1-5a570dd52172",
   "metadata": {},
   "source": [
    "# Consumption Scenario"
   ]
  },
  {
   "cell_type": "code",
   "execution_count": 72,
   "id": "fb0d6b90-c298-4c18-947b-7fc16cac2940",
   "metadata": {},
   "outputs": [],
   "source": [
    "consumption = StaticRetirementConsumption(retirement_consumption, cpi, initial_age, retirement_age)"
   ]
  },
  {
   "cell_type": "code",
   "execution_count": 73,
   "id": "8a81c0be-c20e-4405-870d-ebf4b757a290",
   "metadata": {},
   "outputs": [],
   "source": [
    "deferral = StaticPreRetirementDeferral(initial_deferral, cpi, initial_age, retirement_age)"
   ]
  },
  {
   "cell_type": "code",
   "execution_count": 77,
   "id": "c4d5639d-4705-4354-a731-805f40db58d0",
   "metadata": {},
   "outputs": [],
   "source": [
    "ssb = StaticRetirementSSB(retirement_ssb, cpi, initial_age, retirement_age)"
   ]
  },
  {
   "cell_type": "code",
   "execution_count": 79,
   "id": "ac6fdeb8-aa18-4df7-9379-63dbc48e368a",
   "metadata": {},
   "outputs": [],
   "source": [
    "cpi.step_all()"
   ]
  },
  {
   "cell_type": "code",
   "execution_count": 82,
   "id": "8de32fa2-8386-4625-894c-b5e80205678c",
   "metadata": {},
   "outputs": [],
   "source": [
    "ssb.step_all()"
   ]
  },
  {
   "cell_type": "code",
   "execution_count": 83,
   "id": "aa539aa1-989a-452d-98a1-f72eb2f19626",
   "metadata": {},
   "outputs": [
    {
     "data": {
      "text/plain": [
       "array([    0.        ,     0.        ,     0.        ,     0.        ,\n",
       "           0.        ,     0.        ,     0.        ,     0.        ,\n",
       "           0.        ,     0.        ,     0.        ,     0.        ,\n",
       "           0.        ,     0.        ,     0.        ,     0.        ,\n",
       "           0.        ,     0.        ,     0.        ,     0.        ,\n",
       "           0.        ,     0.        ,     0.        ,     0.        ,\n",
       "           0.        ,     0.        ,     0.        ,     0.        ,\n",
       "           0.        ,     0.        , 18103.23065018, 18525.03774025,\n",
       "       19029.89161664, 19357.13728913, 19742.84792134, 20170.78892552,\n",
       "       20351.93897739, 20788.80355997, 21279.75626561, 21783.1856878 ,\n",
       "       22330.5639352 , 22923.88482579, 23501.14134978, 23960.62195509,\n",
       "       24446.54440847, 24956.49965411, 25569.61533169, 25892.45194378,\n",
       "       26670.38551788, 26919.0713137 , 27511.85497803, 27827.06937104,\n",
       "       28349.8037285 , 28818.51460296, 29480.34422413, 30051.85503652,\n",
       "       30572.59834918, 31199.8439497 , 31748.72647321, 32456.57355896,\n",
       "       33318.1235827 , 34216.96648813, 34867.29766708, 35443.67173831,\n",
       "       36004.00526673, 36833.09505528, 37379.73838658, 37986.89618022,\n",
       "       38755.96235375, 39608.73379895, 40212.46115626])"
      ]
     },
     "execution_count": 83,
     "metadata": {},
     "output_type": "execute_result"
    }
   ],
   "source": [
    "ssb.history"
   ]
  },
  {
   "cell_type": "markdown",
   "id": "02710f82-4277-4272-97a3-abb632b333fa",
   "metadata": {},
   "source": [
    "# Ret Analysis"
   ]
  },
  {
   "cell_type": "code",
   "execution_count": 74,
   "id": "046d8b4e-ae8c-4057-827a-6648166ef130",
   "metadata": {},
   "outputs": [
    {
     "ename": "NameError",
     "evalue": "name 'deferral_scenario' is not defined",
     "output_type": "error",
     "traceback": [
      "\u001b[0;31m---------------------------------------------------------------------------\u001b[0m",
      "\u001b[0;31mNameError\u001b[0m                                 Traceback (most recent call last)",
      "\u001b[0;32m/var/folders/xn/1p56zln925s55jw7cg4p0my40000gn/T/ipykernel_2009/509316463.py\u001b[0m in \u001b[0;36m<module>\u001b[0;34m\u001b[0m\n\u001b[1;32m      1\u001b[0m retirement_analysis = ra.RetirementAnalysis(\n\u001b[0;32m----> 2\u001b[0;31m     initial_age, retirement_age, death_age, portfolio, deferral_scenario, consumption_scenario, inflation_scenario, ssb_scenario)\n\u001b[0m",
      "\u001b[0;31mNameError\u001b[0m: name 'deferral_scenario' is not defined"
     ]
    }
   ],
   "source": [
    "retirement_analysis = ra.RetirementAnalysis(\n",
    "    initial_age=initial_age,\n",
    "    retirement_age=retirement_age,\n",
    "    death_age=death_age,\n",
    "    portfolio=portfolio,\n",
    "    deferral_scenario=deferral,\n",
    "    consumption_scenario=consumption,\n",
    "    inflation_scenario=inflation,\n",
    "    ssb_scenario=ssb)"
   ]
  },
  {
   "cell_type": "code",
   "execution_count": null,
   "id": "4c049316-41b5-41e6-8974-f56e7a288aca",
   "metadata": {},
   "outputs": [],
   "source": []
  }
 ],
 "metadata": {
  "kernelspec": {
   "display_name": "retirement-finance",
   "language": "python",
   "name": "venv-retirement-finance"
  },
  "language_info": {
   "codemirror_mode": {
    "name": "ipython",
    "version": 3
   },
   "file_extension": ".py",
   "mimetype": "text/x-python",
   "name": "python",
   "nbconvert_exporter": "python",
   "pygments_lexer": "ipython3",
   "version": "3.9.5"
  }
 },
 "nbformat": 4,
 "nbformat_minor": 5
}
