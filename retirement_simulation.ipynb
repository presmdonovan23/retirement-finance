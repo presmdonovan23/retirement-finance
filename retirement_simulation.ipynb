{
 "cells": [
  {
   "cell_type": "markdown",
   "id": "c192e46c-9ccd-41dd-8c69-0d400d5fb3cd",
   "metadata": {},
   "source": [
    "# Imports"
   ]
  },
  {
   "cell_type": "code",
   "execution_count": 1,
   "id": "5524c903-e09b-4d55-ba02-d8758342fc96",
   "metadata": {},
   "outputs": [],
   "source": [
    "%load_ext autoreload\n",
    "%autoreload 2"
   ]
  },
  {
   "cell_type": "code",
   "execution_count": 2,
   "id": "fc31ac44",
   "metadata": {},
   "outputs": [],
   "source": [
    "import sys\n",
    "import os\n",
    "\n",
    "import numpy as np\n",
    "import pandas as pd\n",
    "import matplotlib.pyplot as plt"
   ]
  },
  {
   "cell_type": "code",
   "execution_count": 3,
   "id": "53dc4c3a",
   "metadata": {},
   "outputs": [],
   "source": [
    "sys.path.append(os.getcwd() + '/refi')\n",
    "import retirement_analysis as ra\n",
    "import constants\n",
    "#import asset\n",
    "#import consumption\n",
    "#import inflation\n",
    "import portfolio as pf\n",
    "\n",
    "import series.base_series as base_series\n",
    "from series.consumption import StaticRetirementConsumption\n",
    "from series.ssb import StaticRetirementSSB\n",
    "from series.deferral import StaticPreRetirementDeferral"
   ]
  },
  {
   "cell_type": "markdown",
   "id": "d012160a-3a5a-4c42-a1dd-e7b6f1dbe2f3",
   "metadata": {},
   "source": [
    "# Constants"
   ]
  },
  {
   "cell_type": "code",
   "execution_count": 4,
   "id": "a6f315ed-5ef7-4b8a-a5d4-805c736cce22",
   "metadata": {},
   "outputs": [],
   "source": [
    "initial_balance = 400000\n",
    "initial_cpi = 275\n",
    "initial_age = 30\n",
    "initial_deferral = 19500\n",
    "retirement_age = 60\n",
    "retirement_consumption = 75000\n",
    "retirement_ssb = 10000\n",
    "death_age = 100"
   ]
  },
  {
   "cell_type": "code",
   "execution_count": 5,
   "id": "2cb47e81-9e2d-4560-ac84-d72dd82e5864",
   "metadata": {},
   "outputs": [],
   "source": [
    "num_years = death_age - initial_age + 1"
   ]
  },
  {
   "cell_type": "code",
   "execution_count": 6,
   "id": "726cb791-6f65-43ed-bb2e-e70e05e945be",
   "metadata": {},
   "outputs": [],
   "source": [
    "geo_mean_equity_return = .065\n",
    "geo_mean_bond_return = .035\n",
    "geo_mean_cash_return = .002\n",
    "\n",
    "geo_mean_inflation = .02"
   ]
  },
  {
   "cell_type": "markdown",
   "id": "a1880ad0-69c4-4908-89fd-412f9ac43650",
   "metadata": {},
   "source": [
    "\n",
    "# Portfolio"
   ]
  },
  {
   "cell_type": "code",
   "execution_count": 74,
   "id": "2074cfe7-bae2-48e6-82cf-b013152d3bbc",
   "metadata": {},
   "outputs": [],
   "source": [
    "equity = base_series.StaticSeries(num_years, geo_mean_equity_return)\n",
    "bond = base_series.StaticSeries(num_years, geo_mean_bond_return)\n",
    "cash = base_series.StaticSeries(num_years, geo_mean_cash_return)"
   ]
  },
  {
   "cell_type": "code",
   "execution_count": 75,
   "id": "b06c9dfb-4a08-4951-b7a6-da258a4ba0a7",
   "metadata": {},
   "outputs": [],
   "source": [
    "assets = [equity, bond, cash]\n",
    "balance = initial_balance\n",
    "glidepath = constants.fidelity_glidepath"
   ]
  },
  {
   "cell_type": "code",
   "execution_count": 76,
   "id": "1e32eebd-c4ed-4c5b-b1e3-f7e0e26b314d",
   "metadata": {},
   "outputs": [],
   "source": [
    "portfolio = pf.Portfolio(assets, glidepath, balance)"
   ]
  },
  {
   "cell_type": "markdown",
   "id": "39628856-bfda-48d0-ace1-392537425b59",
   "metadata": {},
   "source": [
    "# Inflation Scenario"
   ]
  },
  {
   "cell_type": "code",
   "execution_count": 77,
   "id": "3c00f700-db41-455f-8076-7d97b1d67f83",
   "metadata": {},
   "outputs": [],
   "source": [
    "inflation = base_series.StaticSeries(num_years, geo_mean_inflation)"
   ]
  },
  {
   "cell_type": "code",
   "execution_count": 78,
   "id": "0ba18a7a-3f01-450a-ac48-f4ac18b95051",
   "metadata": {},
   "outputs": [],
   "source": [
    "cpi = base_series.StaticGrowthSeries(initial_value=100, growth_series=inflation)"
   ]
  },
  {
   "cell_type": "markdown",
   "id": "ca345961-6469-4809-a3e1-5a570dd52172",
   "metadata": {},
   "source": [
    "# Consumption Scenario"
   ]
  },
  {
   "cell_type": "code",
   "execution_count": 79,
   "id": "fb0d6b90-c298-4c18-947b-7fc16cac2940",
   "metadata": {},
   "outputs": [],
   "source": [
    "consumption = StaticRetirementConsumption(retirement_consumption, cpi, initial_age, retirement_age)"
   ]
  },
  {
   "cell_type": "code",
   "execution_count": 80,
   "id": "8a81c0be-c20e-4405-870d-ebf4b757a290",
   "metadata": {},
   "outputs": [],
   "source": [
    "deferral = StaticPreRetirementDeferral(initial_deferral, cpi, initial_age, retirement_age)"
   ]
  },
  {
   "cell_type": "code",
   "execution_count": 81,
   "id": "c4d5639d-4705-4354-a731-805f40db58d0",
   "metadata": {},
   "outputs": [],
   "source": [
    "ssb = StaticRetirementSSB(retirement_ssb, cpi, initial_age, retirement_age)"
   ]
  },
  {
   "cell_type": "markdown",
   "id": "02710f82-4277-4272-97a3-abb632b333fa",
   "metadata": {},
   "source": [
    "# Ret Analysis"
   ]
  },
  {
   "cell_type": "code",
   "execution_count": 82,
   "id": "046d8b4e-ae8c-4057-827a-6648166ef130",
   "metadata": {},
   "outputs": [],
   "source": [
    "retirement_analysis = ra.RetirementAnalysis(\n",
    "    initial_age=initial_age,\n",
    "    retirement_age=retirement_age,\n",
    "    death_age=death_age,\n",
    "    portfolio=portfolio,\n",
    "    deferral_scenario=deferral,\n",
    "    consumption_scenario=consumption,\n",
    "    inflation_scenario=inflation,\n",
    "    cpi_scenario=cpi,\n",
    "    ssb_scenario=ssb)"
   ]
  },
  {
   "cell_type": "code",
   "execution_count": 86,
   "id": "4c049316-41b5-41e6-8974-f56e7a288aca",
   "metadata": {},
   "outputs": [],
   "source": [
    "retirement_analysis._step()"
   ]
  },
  {
   "cell_type": "code",
   "execution_count": 87,
   "id": "542fd78f-0817-4a96-a689-7f06b784357e",
   "metadata": {},
   "outputs": [
    {
     "data": {
      "text/plain": [
       "array([400000.    , 445784.6163,         nan,         nan,         nan,\n",
       "               nan,         nan,         nan,         nan,         nan,\n",
       "               nan,         nan,         nan,         nan,         nan,\n",
       "               nan,         nan,         nan,         nan,         nan,\n",
       "               nan,         nan,         nan,         nan,         nan,\n",
       "               nan,         nan,         nan,         nan,         nan,\n",
       "               nan,         nan,         nan,         nan,         nan,\n",
       "               nan,         nan,         nan,         nan,         nan,\n",
       "               nan,         nan,         nan,         nan,         nan,\n",
       "               nan,         nan,         nan,         nan,         nan,\n",
       "               nan,         nan,         nan,         nan,         nan,\n",
       "               nan,         nan,         nan,         nan,         nan,\n",
       "               nan,         nan,         nan,         nan,         nan,\n",
       "               nan,         nan,         nan,         nan,         nan,\n",
       "               nan])"
      ]
     },
     "execution_count": 87,
     "metadata": {},
     "output_type": "execute_result"
    }
   ],
   "source": [
    "retirement_analysis.portfolio.history"
   ]
  },
  {
   "cell_type": "code",
   "execution_count": 85,
   "id": "dc317dff-f2fc-45b7-8db7-51b5e1b19770",
   "metadata": {},
   "outputs": [
    {
     "data": {
      "text/plain": [
       "array([nan, nan, nan, nan, nan, nan, nan, nan, nan, nan, nan, nan, nan,\n",
       "       nan, nan, nan, nan, nan, nan, nan, nan, nan, nan, nan, nan, nan,\n",
       "       nan, nan, nan, nan, nan, nan, nan, nan, nan, nan, nan, nan, nan,\n",
       "       nan, nan, nan, nan, nan, nan, nan, nan, nan, nan, nan, nan, nan,\n",
       "       nan, nan, nan, nan, nan, nan, nan, nan, nan, nan, nan, nan, nan,\n",
       "       nan, nan, nan, nan, nan, nan])"
      ]
     },
     "execution_count": 85,
     "metadata": {},
     "output_type": "execute_result"
    }
   ],
   "source": [
    "retirement_analysis.portfolio.total_returns"
   ]
  },
  {
   "cell_type": "code",
   "execution_count": 69,
   "id": "c1d6f291-717b-4845-a5e1-768cc8cf4373",
   "metadata": {},
   "outputs": [
    {
     "data": {
      "text/plain": [
       "array([0.9 , 0.09, 0.01])"
      ]
     },
     "execution_count": 69,
     "metadata": {},
     "output_type": "execute_result"
    }
   ],
   "source": [
    "retirement_analysis.portfolio.allocations"
   ]
  },
  {
   "cell_type": "code",
   "execution_count": 117,
   "id": "f8e60c09-dded-487d-9853-b05c7ab3f6e8",
   "metadata": {},
   "outputs": [
    {
     "data": {
      "text/plain": [
       "array([0.06167, 0.06167])"
      ]
     },
     "execution_count": 117,
     "metadata": {},
     "output_type": "execute_result"
    }
   ],
   "source": [
    "retirement_analysis.portfolio.hist_pf_returns"
   ]
  },
  {
   "cell_type": "code",
   "execution_count": 118,
   "id": "947e7ff5-b90f-418c-a4c4-f83c34db047f",
   "metadata": {},
   "outputs": [
    {
     "data": {
      "text/plain": [
       "493953.1840435499"
      ]
     },
     "execution_count": 118,
     "metadata": {},
     "output_type": "execute_result"
    }
   ],
   "source": [
    "retirement_analysis.portfolio.balance"
   ]
  },
  {
   "cell_type": "code",
   "execution_count": 124,
   "id": "b4f6e1b4-b0cc-409c-83f7-fc0376636b83",
   "metadata": {},
   "outputs": [],
   "source": [
    "ages = np.array([age for age in np.arange(retirement_analysis.initial_age, retirement_analysis.death_age + 1)])"
   ]
  },
  {
   "cell_type": "code",
   "execution_count": 125,
   "id": "38baa3d7-13e9-49cd-b7e1-e5375b58890d",
   "metadata": {},
   "outputs": [
    {
     "data": {
      "text/plain": [
       "array([ 30,  31,  32,  33,  34,  35,  36,  37,  38,  39,  40,  41,  42,\n",
       "        43,  44,  45,  46,  47,  48,  49,  50,  51,  52,  53,  54,  55,\n",
       "        56,  57,  58,  59,  60,  61,  62,  63,  64,  65,  66,  67,  68,\n",
       "        69,  70,  71,  72,  73,  74,  75,  76,  77,  78,  79,  80,  81,\n",
       "        82,  83,  84,  85,  86,  87,  88,  89,  90,  91,  92,  93,  94,\n",
       "        95,  96,  97,  98,  99, 100])"
      ]
     },
     "execution_count": 125,
     "metadata": {},
     "output_type": "execute_result"
    }
   ],
   "source": [
    "ages"
   ]
  },
  {
   "cell_type": "code",
   "execution_count": 144,
   "id": "c67ffd4e-5e6b-41f1-8dc5-8ce1a669a548",
   "metadata": {},
   "outputs": [
    {
     "data": {
      "text/plain": [
       "30"
      ]
     },
     "execution_count": 144,
     "metadata": {},
     "output_type": "execute_result"
    }
   ],
   "source": [
    "start_age"
   ]
  },
  {
   "cell_type": "code",
   "execution_count": 145,
   "id": "c3b2565c-7296-45db-88e9-738e8b7472cf",
   "metadata": {},
   "outputs": [
    {
     "data": {
      "text/plain": [
       "71"
      ]
     },
     "execution_count": 145,
     "metadata": {},
     "output_type": "execute_result"
    }
   ],
   "source": [
    "c.num_periods"
   ]
  },
  {
   "cell_type": "code",
   "execution_count": 151,
   "id": "6a086843-2220-4d60-b3b4-0eb057e8a1c4",
   "metadata": {},
   "outputs": [
    {
     "data": {
      "text/plain": [
       "array([30, 31])"
      ]
     },
     "execution_count": 151,
     "metadata": {},
     "output_type": "execute_result"
    }
   ],
   "source": [
    "ages"
   ]
  },
  {
   "cell_type": "code",
   "execution_count": 152,
   "id": "2dcb2ef0-204a-4bc4-8081-666c2ad3e177",
   "metadata": {},
   "outputs": [
    {
     "data": {
      "text/plain": [
       "array([100., 102.,  nan,  nan,  nan,  nan,  nan,  nan,  nan,  nan,  nan,\n",
       "        nan,  nan,  nan,  nan,  nan,  nan,  nan,  nan,  nan,  nan,  nan,\n",
       "        nan,  nan,  nan,  nan,  nan,  nan,  nan,  nan,  nan,  nan,  nan,\n",
       "        nan,  nan,  nan,  nan,  nan,  nan,  nan,  nan,  nan,  nan,  nan,\n",
       "        nan,  nan,  nan,  nan,  nan,  nan,  nan,  nan,  nan,  nan,  nan,\n",
       "        nan,  nan,  nan,  nan,  nan,  nan,  nan,  nan,  nan,  nan,  nan,\n",
       "        nan,  nan,  nan,  nan,  nan])"
      ]
     },
     "execution_count": 152,
     "metadata": {},
     "output_type": "execute_result"
    }
   ],
   "source": [
    "c.history"
   ]
  },
  {
   "cell_type": "code",
   "execution_count": 159,
   "id": "132fbf4f-a896-45ba-8a27-f7c7fe8a4aed",
   "metadata": {},
   "outputs": [
    {
     "data": {
      "image/png": "[encoded data removed]",
      "text/plain": [
       "<Figure size 432x288 with 1 Axes>"
      ]
     },
     "metadata": {
      "needs_background": "light"
     },
     "output_type": "display_data"
    }
   ],
   "source": [
    "c.plot(initial_age=10)"
   ]
  },
  {
   "cell_type": "code",
   "execution_count": 165,
   "id": "ba8b5001-77b4-4e03-ab63-e5eb2011b722",
   "metadata": {},
   "outputs": [
    {
     "data": {
      "image/png": "[encoded data removed]",
      "text/plain": [
       "<Figure size 432x288 with 1 Axes>"
      ]
     },
     "metadata": {
      "needs_background": "light"
     },
     "output_type": "display_data"
    },
    {
     "data": {
      "image/png": "[encoded data removed]",
      "text/plain": [
       "<Figure size 432x288 with 1 Axes>"
      ]
     },
     "metadata": {
      "needs_background": "light"
     },
     "output_type": "display_data"
    },
    {
     "data": {
      "image/png": "[encoded data removed]",
      "text/plain": [
       "<Figure size 432x288 with 1 Axes>"
      ]
     },
     "metadata": {
      "needs_background": "light"
     },
     "output_type": "display_data"
    },
    {
     "data": {
      "image/png": "[encoded data removed]",
      "text/plain": [
       "<Figure size 432x288 with 1 Axes>"
      ]
     },
     "metadata": {
      "needs_background": "light"
     },
     "output_type": "display_data"
    },
    {
     "data": {
      "image/png": "[encoded data removed]",
      "text/plain": [
       "<Figure size 432x288 with 1 Axes>"
      ]
     },
     "metadata": {
      "needs_background": "light"
     },
     "output_type": "display_data"
    }
   ],
   "source": [
    "retirement_analysis.plot()"
   ]
  },
  {
   "cell_type": "code",
   "execution_count": null,
   "id": "4cff8af2-4af4-431e-8c90-bb39fdca2138",
   "metadata": {},
   "outputs": [],
   "source": []
  }
 ],
 "metadata": {
  "kernelspec": {
   "display_name": "retirement-finance",
   "language": "python",
   "name": "venv-retirement-finance"
  },
  "language_info": {
   "codemirror_mode": {
    "name": "ipython",
    "version": 3
   },
   "file_extension": ".py",
   "mimetype": "text/x-python",
   "name": "python",
   "nbconvert_exporter": "python",
   "pygments_lexer": "ipython3",
   "version": "3.9.5"
  }
 },
 "nbformat": 4,
 "nbformat_minor": 5
}
