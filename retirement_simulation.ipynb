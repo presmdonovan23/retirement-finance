{
 "cells": [
  {
   "cell_type": "markdown",
   "id": "c192e46c-9ccd-41dd-8c69-0d400d5fb3cd",
   "metadata": {},
   "source": [
    "# Imports"
   ]
  },
  {
   "cell_type": "code",
   "execution_count": 3,
   "id": "5524c903-e09b-4d55-ba02-d8758342fc96",
   "metadata": {},
   "outputs": [],
   "source": [
    "%load_ext autoreload\n",
    "%autoreload 2"
   ]
  },
  {
   "cell_type": "code",
   "execution_count": 4,
   "id": "fc31ac44",
   "metadata": {},
   "outputs": [],
   "source": [
    "import sys\n",
    "import os\n",
    "\n",
    "import numpy as np\n",
    "import pandas as pd"
   ]
  },
  {
   "cell_type": "code",
   "execution_count": 46,
   "id": "53dc4c3a",
   "metadata": {},
   "outputs": [],
   "source": [
    "sys.path.append(os.getcwd() + '/refi')\n",
    "import retirement_analysis as ra\n",
    "import constants\n",
    "import asset\n",
    "import consumption\n",
    "#import inflation\n",
    "import portfolio as pf\n",
    "\n",
    "import series"
   ]
  },
  {
   "cell_type": "markdown",
   "id": "d012160a-3a5a-4c42-a1dd-e7b6f1dbe2f3",
   "metadata": {},
   "source": [
    "# Constants"
   ]
  },
  {
   "cell_type": "code",
   "execution_count": 38,
   "id": "a6f315ed-5ef7-4b8a-a5d4-805c736cce22",
   "metadata": {},
   "outputs": [],
   "source": [
    "initial_balance = 400000\n",
    "initial_cpi = 275\n",
    "initial_age = 30\n",
    "initial_deferral = 19500\n",
    "retirement_age = 60\n",
    "retirement_consumption = 75000\n",
    "death_age = 100"
   ]
  },
  {
   "cell_type": "code",
   "execution_count": 48,
   "id": "2cb47e81-9e2d-4560-ac84-d72dd82e5864",
   "metadata": {},
   "outputs": [],
   "source": [
    "num_scenarios = 3\n",
    "num_years = death_age - initial_age + 1"
   ]
  },
  {
   "cell_type": "code",
   "execution_count": 40,
   "id": "726cb791-6f65-43ed-bb2e-e70e05e945be",
   "metadata": {},
   "outputs": [],
   "source": [
    "geo_mean_equity_return = .065\n",
    "geo_mean_bond_return = .035\n",
    "geo_mean_cash_return = .002\n",
    "\n",
    "geo_mean_inflation = .02"
   ]
  },
  {
   "cell_type": "markdown",
   "id": "a1880ad0-69c4-4908-89fd-412f9ac43650",
   "metadata": {},
   "source": [
    "\n",
    "# Portfolio"
   ]
  },
  {
   "cell_type": "code",
   "execution_count": 57,
   "id": "2074cfe7-bae2-48e6-82cf-b013152d3bbc",
   "metadata": {},
   "outputs": [],
   "source": [
    "equity = series.StaticSeries(num_years, geo_mean_equity_return)\n",
    "bond = series.StaticSeries(num_years, geo_mean_bond_return)\n",
    "cash = series.StaticSeries(num_years, geo_mean_cash_return)"
   ]
  },
  {
   "cell_type": "code",
   "execution_count": 58,
   "id": "b06c9dfb-4a08-4951-b7a6-da258a4ba0a7",
   "metadata": {},
   "outputs": [],
   "source": [
    "assets = [equity, bond, cash]\n",
    "balance = initial_balance"
   ]
  },
  {
   "cell_type": "code",
   "execution_count": 59,
   "id": "a56a4b88-f8b9-4db9-9660-e13edf00ad9e",
   "metadata": {},
   "outputs": [],
   "source": [
    "glidepath = constants.fidelity_glidepath"
   ]
  },
  {
   "cell_type": "code",
   "execution_count": 60,
   "id": "1e32eebd-c4ed-4c5b-b1e3-f7e0e26b314d",
   "metadata": {},
   "outputs": [],
   "source": [
    "portfolio = pf.Portfolio(assets, glidepath, balance)"
   ]
  },
  {
   "cell_type": "markdown",
   "id": "39628856-bfda-48d0-ace1-392537425b59",
   "metadata": {},
   "source": [
    "# Inflation Scenario"
   ]
  },
  {
   "cell_type": "code",
   "execution_count": 147,
   "id": "3c00f700-db41-455f-8076-7d97b1d67f83",
   "metadata": {},
   "outputs": [],
   "source": [
    "# inflation_scenario = series.StaticSeries(num_years, geo_mean_inflation)\n",
    "inflation_scenario = series.PositiveGaussianSeries(num_years, mean=geo_mean_inflation, std_dev=.005)"
   ]
  },
  {
   "cell_type": "code",
   "execution_count": 226,
   "id": "d2f62499-6998-4c21-980f-9c2039376bec",
   "metadata": {},
   "outputs": [
    {
     "data": {
      "text/plain": [
       "array([0.01971003, 0.01310406, 0.00848944, 0.01611065, 0.01859087,\n",
       "       0.02586759, 0.02194343, 0.01006315, 0.02258356,        nan,\n",
       "              nan,        nan,        nan,        nan,        nan,\n",
       "              nan,        nan,        nan,        nan,        nan,\n",
       "              nan,        nan,        nan,        nan,        nan,\n",
       "              nan,        nan,        nan,        nan,        nan,\n",
       "              nan,        nan,        nan,        nan,        nan,\n",
       "              nan,        nan,        nan,        nan,        nan,\n",
       "              nan,        nan,        nan,        nan,        nan,\n",
       "              nan,        nan,        nan,        nan,        nan,\n",
       "              nan,        nan,        nan,        nan,        nan,\n",
       "              nan,        nan,        nan,        nan,        nan,\n",
       "              nan,        nan,        nan,        nan,        nan,\n",
       "              nan,        nan,        nan,        nan,        nan,\n",
       "              nan])"
      ]
     },
     "execution_count": 226,
     "metadata": {},
     "output_type": "execute_result"
    }
   ],
   "source": [
    "inflation_scenario.history"
   ]
  },
  {
   "cell_type": "code",
   "execution_count": 225,
   "id": "bf5811b1-3a27-4c82-a4a1-ac7e5f25390c",
   "metadata": {},
   "outputs": [],
   "source": [
    "inflation_scenario.step()"
   ]
  },
  {
   "cell_type": "code",
   "execution_count": 195,
   "id": "0ba18a7a-3f01-450a-ac48-f4ac18b95051",
   "metadata": {},
   "outputs": [],
   "source": [
    "cpi_scenario = series.StaticGrowthSeries(initial_value=100, growth_series=inflation_scenario)"
   ]
  },
  {
   "cell_type": "code",
   "execution_count": 230,
   "id": "67d83a55-898e-427c-a021-f08dab548c40",
   "metadata": {},
   "outputs": [
    {
     "data": {
      "text/plain": [
       "(72,)"
      ]
     },
     "execution_count": 230,
     "metadata": {},
     "output_type": "execute_result"
    }
   ],
   "source": [
    "cpi_scenario.history.shape"
   ]
  },
  {
   "cell_type": "code",
   "execution_count": 232,
   "id": "9f48d529-a172-4160-ad76-71b7734147c4",
   "metadata": {},
   "outputs": [
    {
     "data": {
      "text/plain": [
       "(71,)"
      ]
     },
     "execution_count": 232,
     "metadata": {},
     "output_type": "execute_result"
    }
   ],
   "source": [
    "inflation_scenario.history.shape"
   ]
  },
  {
   "cell_type": "code",
   "execution_count": 227,
   "id": "3e76b48a-d881-4d53-9840-017e0b16f5d1",
   "metadata": {},
   "outputs": [
    {
     "data": {
      "text/plain": [
       "8"
      ]
     },
     "execution_count": 227,
     "metadata": {},
     "output_type": "execute_result"
    }
   ],
   "source": [
    "cpi_scenario.period"
   ]
  },
  {
   "cell_type": "code",
   "execution_count": 228,
   "id": "b6ff94a2-26eb-4df8-b7cd-b5dfba1e34b1",
   "metadata": {},
   "outputs": [],
   "source": [
    "cpi_scenario.step()"
   ]
  },
  {
   "cell_type": "code",
   "execution_count": 229,
   "id": "815ef3ac-2c60-4cb0-8faa-37ddb2623deb",
   "metadata": {},
   "outputs": [
    {
     "data": {
      "text/plain": [
       "array([100.        , 101.97100297, 103.30723725, 104.18425743,\n",
       "       105.86273371, 107.83081352, 110.62013665, 113.04752212,\n",
       "       114.18513653, 116.76384318,          nan,          nan,\n",
       "                nan,          nan,          nan,          nan,\n",
       "                nan,          nan,          nan,          nan,\n",
       "                nan,          nan,          nan,          nan,\n",
       "                nan,          nan,          nan,          nan,\n",
       "                nan,          nan,          nan,          nan,\n",
       "                nan,          nan,          nan,          nan,\n",
       "                nan,          nan,          nan,          nan,\n",
       "                nan,          nan,          nan,          nan,\n",
       "                nan,          nan,          nan,          nan,\n",
       "                nan,          nan,          nan,          nan,\n",
       "                nan,          nan,          nan,          nan,\n",
       "                nan,          nan,          nan,          nan,\n",
       "                nan,          nan,          nan,          nan,\n",
       "                nan,          nan,          nan,          nan,\n",
       "                nan,          nan,          nan,          nan])"
      ]
     },
     "execution_count": 229,
     "metadata": {},
     "output_type": "execute_result"
    }
   ],
   "source": [
    "cpi_scenario.history"
   ]
  },
  {
   "cell_type": "code",
   "execution_count": null,
   "id": "02561533-d3c7-4624-a168-e518b9a5a4b8",
   "metadata": {},
   "outputs": [],
   "source": [
    "cpi"
   ]
  },
  {
   "cell_type": "code",
   "execution_count": 234,
   "id": "f0f9bd5a-9632-43e2-a435-12a6f3e3d82f",
   "metadata": {},
   "outputs": [],
   "source": [
    "num_years = 50\n",
    "mean_inflation = .02\n",
    "std_dev_inflation = .005\n",
    "inflation_scenario = series.PositiveGaussianSeries(num_years, mean=mean_inflation, std_dev=std_dev_inflation)\n",
    "consumption_scenario = series.StaticGrowthSeries(initial_value=10000, growth_series=inflation_scenario)"
   ]
  },
  {
   "cell_type": "code",
   "execution_count": 235,
   "id": "71976dac-853b-49c5-b49f-2c0649b2d847",
   "metadata": {},
   "outputs": [],
   "source": []
  },
  {
   "cell_type": "code",
   "execution_count": 238,
   "id": "8161718e-d31f-4fb5-a5b6-636065d2d551",
   "metadata": {},
   "outputs": [
    {
     "data": {
      "text/plain": [
       "True"
      ]
     },
     "execution_count": 238,
     "metadata": {},
     "output_type": "execute_result"
    }
   ],
   "source": []
  },
  {
   "cell_type": "code",
   "execution_count": 239,
   "id": "83be0cc7-d932-4c0d-8291-5bb992f8cbca",
   "metadata": {},
   "outputs": [
    {
     "data": {
      "text/plain": [
       "True"
      ]
     },
     "execution_count": 239,
     "metadata": {},
     "output_type": "execute_result"
    }
   ],
   "source": []
  },
  {
   "cell_type": "code",
   "execution_count": 240,
   "id": "06a06ca0-7491-4b06-b35e-97e2695af2b9",
   "metadata": {},
   "outputs": [
    {
     "data": {
      "text/plain": [
       "True"
      ]
     },
     "execution_count": 240,
     "metadata": {},
     "output_type": "execute_result"
    }
   ],
   "source": []
  },
  {
   "cell_type": "code",
   "execution_count": 241,
   "id": "9d784bde-acbf-434d-a6b9-875731c0bd0d",
   "metadata": {},
   "outputs": [],
   "source": []
  },
  {
   "cell_type": "code",
   "execution_count": 242,
   "id": "cd8b149b-206a-4b73-adcd-d76e342e4be4",
   "metadata": {},
   "outputs": [],
   "source": []
  },
  {
   "cell_type": "code",
   "execution_count": 243,
   "id": "bb10f0a1-788b-4ff0-bf5f-c994f276adcb",
   "metadata": {},
   "outputs": [
    {
     "data": {
      "text/plain": [
       "True"
      ]
     },
     "execution_count": 243,
     "metadata": {},
     "output_type": "execute_result"
    }
   ],
   "source": []
  },
  {
   "cell_type": "code",
   "execution_count": 287,
   "id": "b9274dd6-bfce-4ca9-a402-e97f6f528eec",
   "metadata": {},
   "outputs": [
    {
     "ename": "IndexError",
     "evalue": "Final period 49 reached, cannot step further.",
     "output_type": "error",
     "traceback": [
      "\u001b[0;31m---------------------------------------------------------------------------\u001b[0m",
      "\u001b[0;31mIndexError\u001b[0m                                Traceback (most recent call last)",
      "\u001b[0;32m/var/folders/xn/1p56zln925s55jw7cg4p0my40000gn/T/ipykernel_88946/2211080827.py\u001b[0m in \u001b[0;36m<module>\u001b[0;34m\u001b[0m\n\u001b[0;32m----> 1\u001b[0;31m \u001b[0mconsumption_scenario\u001b[0m\u001b[0;34m.\u001b[0m\u001b[0mstep\u001b[0m\u001b[0;34m(\u001b[0m\u001b[0;34m)\u001b[0m\u001b[0;34m\u001b[0m\u001b[0;34m\u001b[0m\u001b[0m\n\u001b[0m",
      "\u001b[0;32m~/Documents/repos/re-fi/refi/series.py\u001b[0m in \u001b[0;36mstep\u001b[0;34m(self)\u001b[0m\n\u001b[1;32m     12\u001b[0m     \u001b[0;32mdef\u001b[0m \u001b[0mstep\u001b[0m\u001b[0;34m(\u001b[0m\u001b[0mself\u001b[0m\u001b[0;34m)\u001b[0m\u001b[0;34m:\u001b[0m\u001b[0;34m\u001b[0m\u001b[0;34m\u001b[0m\u001b[0m\n\u001b[1;32m     13\u001b[0m         \u001b[0;32mif\u001b[0m \u001b[0mself\u001b[0m\u001b[0;34m.\u001b[0m\u001b[0mperiod\u001b[0m \u001b[0;34m==\u001b[0m \u001b[0;34m(\u001b[0m\u001b[0mself\u001b[0m\u001b[0;34m.\u001b[0m\u001b[0mnum_periods\u001b[0m \u001b[0;34m-\u001b[0m \u001b[0;36m1\u001b[0m\u001b[0;34m)\u001b[0m\u001b[0;34m:\u001b[0m\u001b[0;34m\u001b[0m\u001b[0;34m\u001b[0m\u001b[0m\n\u001b[0;32m---> 14\u001b[0;31m             \u001b[0;32mraise\u001b[0m \u001b[0mIndexError\u001b[0m\u001b[0;34m(\u001b[0m\u001b[0;34m'Final period {0} reached, cannot step further.'\u001b[0m\u001b[0;34m.\u001b[0m\u001b[0mformat\u001b[0m\u001b[0;34m(\u001b[0m\u001b[0mself\u001b[0m\u001b[0;34m.\u001b[0m\u001b[0mperiod\u001b[0m\u001b[0;34m)\u001b[0m\u001b[0;34m)\u001b[0m\u001b[0;34m\u001b[0m\u001b[0;34m\u001b[0m\u001b[0m\n\u001b[0m\u001b[1;32m     15\u001b[0m \u001b[0;34m\u001b[0m\u001b[0m\n\u001b[1;32m     16\u001b[0m         \u001b[0mself\u001b[0m\u001b[0;34m.\u001b[0m\u001b[0mperiod\u001b[0m \u001b[0;34m+=\u001b[0m \u001b[0;36m1\u001b[0m\u001b[0;34m\u001b[0m\u001b[0;34m\u001b[0m\u001b[0m\n",
      "\u001b[0;31mIndexError\u001b[0m: Final period 49 reached, cannot step further."
     ]
    }
   ],
   "source": []
  },
  {
   "cell_type": "code",
   "execution_count": 245,
   "id": "aec00977-98ec-46a2-a390-8403384da210",
   "metadata": {},
   "outputs": [
    {
     "data": {
      "text/plain": [
       "True"
      ]
     },
     "execution_count": 245,
     "metadata": {},
     "output_type": "execute_result"
    }
   ],
   "source": []
  },
  {
   "cell_type": "code",
   "execution_count": 246,
   "id": "35429377-8f3b-4e87-a6a6-53963e8fcb68",
   "metadata": {},
   "outputs": [],
   "source": []
  },
  {
   "cell_type": "code",
   "execution_count": 266,
   "id": "35b6aa2a-786c-4bb7-9e6e-b951853255cb",
   "metadata": {},
   "outputs": [
    {
     "name": "stdout",
     "output_type": "stream",
     "text": [
      "Cannot get_next_value: cannot calculate value for period 3 when growth_series is only at period 1.\n"
     ]
    }
   ],
   "source": []
  },
  {
   "cell_type": "code",
   "execution_count": 267,
   "id": "ba9b1cc2-79cc-4754-a140-2d10e075431a",
   "metadata": {},
   "outputs": [
    {
     "data": {
      "text/plain": [
       "True"
      ]
     },
     "execution_count": 267,
     "metadata": {},
     "output_type": "execute_result"
    }
   ],
   "source": []
  },
  {
   "cell_type": "code",
   "execution_count": 269,
   "id": "21324eec-fce6-4d5e-982b-e7462608bc91",
   "metadata": {},
   "outputs": [
    {
     "data": {
      "text/plain": [
       "True"
      ]
     },
     "execution_count": 269,
     "metadata": {},
     "output_type": "execute_result"
    }
   ],
   "source": []
  },
  {
   "cell_type": "code",
   "execution_count": 274,
   "id": "e1e5e0ab-2365-4d4e-808d-b44f3d4ac971",
   "metadata": {},
   "outputs": [],
   "source": []
  },
  {
   "cell_type": "code",
   "execution_count": 275,
   "id": "89900789-7e63-418a-81e4-b48f42210955",
   "metadata": {},
   "outputs": [],
   "source": []
  },
  {
   "cell_type": "code",
   "execution_count": 284,
   "id": "1c587073-836c-4f99-8e4e-7082b01fb46e",
   "metadata": {},
   "outputs": [
    {
     "data": {
      "text/plain": [
       "True"
      ]
     },
     "execution_count": 284,
     "metadata": {},
     "output_type": "execute_result"
    }
   ],
   "source": []
  },
  {
   "cell_type": "code",
   "execution_count": 286,
   "id": "d72e6f3e-fbcc-485e-96f2-578775864e67",
   "metadata": {},
   "outputs": [
    {
     "data": {
      "text/plain": [
       "True"
      ]
     },
     "execution_count": 286,
     "metadata": {},
     "output_type": "execute_result"
    }
   ],
   "source": []
  },
  {
   "cell_type": "markdown",
   "id": "ca345961-6469-4809-a3e1-5a570dd52172",
   "metadata": {},
   "source": [
    "# Consumption Scenario"
   ]
  },
  {
   "cell_type": "code",
   "execution_count": 139,
   "id": "fb0d6b90-c298-4c18-947b-7fc16cac2940",
   "metadata": {},
   "outputs": [],
   "source": [
    "consumption_scenario = consumption.StaticRetirementConsumption(initial_tgt_consumption=retirement_consumption, \n",
    "                                                      initial_cpi=initial_cpi, initial_age, retirement_age))"
   ]
  },
  {
   "cell_type": "code",
   "execution_count": 67,
   "id": "ebb71598-8a71-4aba-aa77-276443ab6a8d",
   "metadata": {},
   "outputs": [],
   "source": [
    "consumption_series = series.StaticGrowthSeries(initial_value=100, growth_series=inflation_scenario)"
   ]
  },
  {
   "cell_type": "code",
   "execution_count": 68,
   "id": "82113399-6259-4398-9f8c-11ff9310600a",
   "metadata": {},
   "outputs": [
    {
     "data": {
      "text/plain": [
       "array([nan, nan, nan, nan, nan, nan, nan, nan, nan, nan, nan, nan, nan,\n",
       "       nan, nan, nan, nan, nan, nan, nan, nan, nan, nan, nan, nan, nan,\n",
       "       nan, nan, nan, nan, nan, nan, nan, nan, nan, nan, nan, nan, nan,\n",
       "       nan, nan, nan, nan, nan, nan, nan, nan, nan, nan, nan, nan, nan,\n",
       "       nan, nan, nan, nan, nan, nan, nan, nan, nan, nan, nan, nan, nan,\n",
       "       nan, nan, nan, nan, nan, nan, nan])"
      ]
     },
     "execution_count": 68,
     "metadata": {},
     "output_type": "execute_result"
    }
   ],
   "source": [
    "consumption_series.history"
   ]
  },
  {
   "cell_type": "code",
   "execution_count": 78,
   "id": "4c9bb4de-5c85-47a0-959d-97f3472262ad",
   "metadata": {},
   "outputs": [],
   "source": [
    "inflation_scenario.step()"
   ]
  },
  {
   "cell_type": "code",
   "execution_count": 79,
   "id": "dd181e11-da43-4bed-96ea-e019c1cd2800",
   "metadata": {},
   "outputs": [
    {
     "data": {
      "text/plain": [
       "array([0.02, 0.02,  nan,  nan,  nan,  nan,  nan,  nan,  nan,  nan,  nan,\n",
       "        nan,  nan,  nan,  nan,  nan,  nan,  nan,  nan,  nan,  nan,  nan,\n",
       "        nan,  nan,  nan,  nan,  nan,  nan,  nan,  nan,  nan,  nan,  nan,\n",
       "        nan,  nan,  nan,  nan,  nan,  nan,  nan,  nan,  nan,  nan,  nan,\n",
       "        nan,  nan,  nan,  nan,  nan,  nan,  nan,  nan,  nan,  nan,  nan,\n",
       "        nan,  nan,  nan,  nan,  nan,  nan,  nan,  nan,  nan,  nan,  nan,\n",
       "        nan,  nan,  nan,  nan,  nan])"
      ]
     },
     "execution_count": 79,
     "metadata": {},
     "output_type": "execute_result"
    }
   ],
   "source": [
    "inflation_scenario.history"
   ]
  },
  {
   "cell_type": "code",
   "execution_count": 81,
   "id": "0f010ceb-bdeb-40c8-be7c-435d6c0ca1e2",
   "metadata": {},
   "outputs": [],
   "source": [
    "consumption_series.step()"
   ]
  },
  {
   "cell_type": "code",
   "execution_count": 82,
   "id": "570cbbb4-369f-4093-9f0d-f5bd71541e6c",
   "metadata": {},
   "outputs": [
    {
     "data": {
      "text/plain": [
       "array([100.    , 102.    , 104.04  , 106.1208,      nan,      nan,\n",
       "            nan,      nan,      nan,      nan,      nan,      nan,\n",
       "            nan,      nan,      nan,      nan,      nan,      nan,\n",
       "            nan,      nan,      nan,      nan,      nan,      nan,\n",
       "            nan,      nan,      nan,      nan,      nan,      nan,\n",
       "            nan,      nan,      nan,      nan,      nan,      nan,\n",
       "            nan,      nan,      nan,      nan,      nan,      nan,\n",
       "            nan,      nan,      nan,      nan,      nan,      nan,\n",
       "            nan,      nan,      nan,      nan,      nan,      nan,\n",
       "            nan,      nan,      nan,      nan,      nan,      nan,\n",
       "            nan,      nan,      nan,      nan,      nan,      nan,\n",
       "            nan,      nan,      nan,      nan,      nan,      nan])"
      ]
     },
     "execution_count": 82,
     "metadata": {},
     "output_type": "execute_result"
    }
   ],
   "source": [
    "consumption_series.history"
   ]
  },
  {
   "cell_type": "code",
   "execution_count": null,
   "id": "988b2c21-31a9-4ae2-a693-c46596f9f208",
   "metadata": {},
   "outputs": [],
   "source": []
  },
  {
   "cell_type": "code",
   "execution_count": 142,
   "id": "a105fc74-017f-4615-889f-a86d6101c300",
   "metadata": {},
   "outputs": [
    {
     "name": "stdout",
     "output_type": "stream",
     "text": [
      "Historical Target Consumption:\n",
      "[75000. 86250.]\n"
     ]
    }
   ],
   "source": [
    "consumption_scenario.print_history()"
   ]
  },
  {
   "cell_type": "code",
   "execution_count": 143,
   "id": "21b1e17c-8191-471d-bc64-b870e4ffc62f",
   "metadata": {},
   "outputs": [],
   "source": [
    "consumption_scenario.step(.15)"
   ]
  },
  {
   "cell_type": "code",
   "execution_count": 118,
   "id": "5f358b47-9225-48b3-a28c-a39126ba2cff",
   "metadata": {},
   "outputs": [
    {
     "data": {
      "text/plain": [
       "-0.9999"
      ]
     },
     "execution_count": 118,
     "metadata": {},
     "output_type": "execute_result"
    }
   ],
   "source": [
    "np.clip(-1, a_min=-.9999, a_max=None)"
   ]
  },
  {
   "cell_type": "code",
   "execution_count": null,
   "id": "8a81c0be-c20e-4405-870d-ebf4b757a290",
   "metadata": {},
   "outputs": [],
   "source": []
  }
 ],
 "metadata": {
  "kernelspec": {
   "display_name": "re-fi",
   "language": "python",
   "name": "venv"
  },
  "language_info": {
   "codemirror_mode": {
    "name": "ipython",
    "version": 3
   },
   "file_extension": ".py",
   "mimetype": "text/x-python",
   "name": "python",
   "nbconvert_exporter": "python",
   "pygments_lexer": "ipython3",
   "version": "3.9.5"
  }
 },
 "nbformat": 4,
 "nbformat_minor": 5
}
